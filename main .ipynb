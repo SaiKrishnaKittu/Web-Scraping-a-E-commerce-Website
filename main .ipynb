{
 "cells": [
  {
   "cell_type": "markdown",
   "id": "5ce4f8da",
   "metadata": {},
   "source": [
    "# 1.Importing the libraries"
   ]
  },
  {
   "cell_type": "code",
   "execution_count": 1,
   "id": "58cd9f82",
   "metadata": {},
   "outputs": [],
   "source": [
    "from bs4 import BeautifulSoup"
   ]
  },
  {
   "cell_type": "code",
   "execution_count": 2,
   "id": "7a59945d",
   "metadata": {},
   "outputs": [],
   "source": [
    "import pandas as pd\n",
    "import requests"
   ]
  },
  {
   "cell_type": "code",
   "execution_count": 3,
   "id": "f1255531",
   "metadata": {},
   "outputs": [],
   "source": [
    "HEADERS = ({'User-Agent':\n",
    "            'Mozilla/5.0 (Windows NT 10.0; Win64; x64) \\\n",
    "            AppleWebKit/537.36 (KHTML, like Gecko) \\\n",
    "            Chrome/90.0.4430.212 Safari/537.36',\n",
    "            'Accept-Language': 'en-US, en;q=0.5'})"
   ]
  },
  {
   "cell_type": "markdown",
   "id": "e018005a",
   "metadata": {},
   "source": [
    "# 2.Select your target URL/Link"
   ]
  },
  {
   "cell_type": "code",
   "execution_count": 4,
   "id": "aa8bd593",
   "metadata": {},
   "outputs": [],
   "source": [
    "url=\"https://www.amazon.in/Apple-iPhone-Pro-Max-256/product-reviews/B09V4KVP3K/ref=cm_cr_dp_d_show_all_btm?ie=UTF8&reviewerType=all_reviews\"\n",
    "allow=requests.get(url)"
   ]
  },
  {
   "cell_type": "code",
   "execution_count": 5,
   "id": "fe829fd7",
   "metadata": {},
   "outputs": [
    {
     "data": {
      "text/plain": [
       "<Response [503]>"
      ]
     },
     "execution_count": 5,
     "metadata": {},
     "output_type": "execute_result"
    }
   ],
   "source": [
    "allow"
   ]
  },
  {
   "cell_type": "markdown",
   "id": "7cccc2b4",
   "metadata": {},
   "source": [
    "# 3.Parse the target HTML using Beautifulsoup"
   ]
  },
  {
   "cell_type": "code",
   "execution_count": 6,
   "id": "332bf940",
   "metadata": {
    "scrolled": true
   },
   "outputs": [],
   "source": [
    "data=BeautifulSoup(allow.text,\"html.parser\")"
   ]
  },
  {
   "cell_type": "markdown",
   "id": "1a8b7f8c",
   "metadata": {},
   "source": [
    "# 4.Scrape Your required data Using selectors"
   ]
  },
  {
   "cell_type": "code",
   "execution_count": 7,
   "id": "6b6910b7",
   "metadata": {},
   "outputs": [],
   "source": [
    "names= []\n",
    "names_data=[]\n",
    "for name in data.findAll(\"span\",class_=\"a-profile-name\"):\n",
    "    names_data.append(name.text)"
   ]
  },
  {
   "cell_type": "code",
   "execution_count": 8,
   "id": "713fb606",
   "metadata": {},
   "outputs": [],
   "source": [
    "for i in names_data:\n",
    "    if i not in names:\n",
    "        names.append(i)"
   ]
  },
  {
   "cell_type": "code",
   "execution_count": 9,
   "id": "b4e6a69f",
   "metadata": {},
   "outputs": [
    {
     "data": {
      "text/plain": [
       "[]"
      ]
     },
     "execution_count": 9,
     "metadata": {},
     "output_type": "execute_result"
    }
   ],
   "source": [
    "names"
   ]
  },
  {
   "cell_type": "code",
   "execution_count": 10,
   "id": "f9475249",
   "metadata": {},
   "outputs": [],
   "source": [
    "title_data=[]\n",
    "for review in data.findAll(\"a\",class_=\"a-size-base a-link-normal review-title a-color-base review-title-content a-text-bold\"):\n",
    "    title_data.append(review.text.strip(\"\\n\"))"
   ]
  },
  {
   "cell_type": "code",
   "execution_count": 11,
   "id": "9caf429d",
   "metadata": {},
   "outputs": [
    {
     "data": {
      "text/plain": [
       "[]"
      ]
     },
     "execution_count": 11,
     "metadata": {},
     "output_type": "execute_result"
    }
   ],
   "source": [
    "title_data"
   ]
  },
  {
   "cell_type": "code",
   "execution_count": 12,
   "id": "cd73eadf",
   "metadata": {},
   "outputs": [],
   "source": [
    "desc=[]\n",
    "for rate in data.findAll(\"span\",class_=\"a-size-base review-text review-text-content\"):\n",
    "    desc.append(rate.text.replace(\"The media could not be loaded.\",\" \").replace(\"\\n\\n\\n\\n\\n                     \\n                \\n\\n\\n\\n\\xa0\",\" \").strip(\"\\n\"))\n"
   ]
  },
  {
   "cell_type": "code",
   "execution_count": 13,
   "id": "d610c7c6",
   "metadata": {},
   "outputs": [
    {
     "data": {
      "text/plain": [
       "[]"
      ]
     },
     "execution_count": 13,
     "metadata": {},
     "output_type": "execute_result"
    }
   ],
   "source": [
    "desc"
   ]
  },
  {
   "cell_type": "code",
   "execution_count": 14,
   "id": "a5f968d7",
   "metadata": {},
   "outputs": [],
   "source": [
    "rate=[]\n",
    "for i in data.findAll(\"i\",{\"data-hook\":\"review-star-rating\"}):\n",
    "    rate.append(i.text.replace(\"out of 5 stars\",\" \"))\n",
    "    "
   ]
  },
  {
   "cell_type": "code",
   "execution_count": 15,
   "id": "86804f95",
   "metadata": {},
   "outputs": [
    {
     "data": {
      "text/plain": [
       "[]"
      ]
     },
     "execution_count": 15,
     "metadata": {},
     "output_type": "execute_result"
    }
   ],
   "source": [
    "rate"
   ]
  },
  {
   "cell_type": "markdown",
   "id": "74b48b0a",
   "metadata": {},
   "source": [
    "# 5.Create a dataframe using scraped data"
   ]
  },
  {
   "cell_type": "code",
   "execution_count": 16,
   "id": "d31820d0",
   "metadata": {},
   "outputs": [],
   "source": [
    "amazon_iphone_reviews=pd.DataFrame({\"Customer Names\":names,\"Review Title\":title_data,\"Description\":desc})"
   ]
  },
  {
   "cell_type": "markdown",
   "id": "3f909a46",
   "metadata": {},
   "source": [
    "# 6.Save as CSV file "
   ]
  },
  {
   "cell_type": "code",
   "execution_count": null,
   "id": "ea7faa35",
   "metadata": {},
   "outputs": [],
   "source": [
    "amazon_iphone_reviews.to_csv('amazon_reviews_iphone.csv')"
   ]
  },
  {
   "cell_type": "code",
   "execution_count": null,
   "id": "362eec86",
   "metadata": {},
   "outputs": [],
   "source": []
  }
 ],
 "metadata": {
  "kernelspec": {
   "display_name": "Python 3",
   "language": "python",
   "name": "python3"
  },
  "language_info": {
   "codemirror_mode": {
    "name": "ipython",
    "version": 3
   },
   "file_extension": ".py",
   "mimetype": "text/x-python",
   "name": "python",
   "nbconvert_exporter": "python",
   "pygments_lexer": "ipython3",
   "version": "3.8.8"
  }
 },
 "nbformat": 4,
 "nbformat_minor": 5
}
